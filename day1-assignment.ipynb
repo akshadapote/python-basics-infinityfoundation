{
 "cells": [
  {
   "cell_type": "code",
   "execution_count": 60,
   "id": "d4ff105a",
   "metadata": {},
   "outputs": [],
   "source": [
    "a=10\n",
    "b='AKSHADA'\n",
    "c=20\n",
    "d='25'\n"
   ]
  },
  {
   "cell_type": "code",
   "execution_count": 61,
   "id": "62464a29",
   "metadata": {},
   "outputs": [
    {
     "data": {
      "text/plain": [
       "10"
      ]
     },
     "execution_count": 61,
     "metadata": {},
     "output_type": "execute_result"
    }
   ],
   "source": [
    "a"
   ]
  },
  {
   "cell_type": "code",
   "execution_count": 62,
   "id": "4d6363c5",
   "metadata": {},
   "outputs": [
    {
     "data": {
      "text/plain": [
       "'AKSHADA'"
      ]
     },
     "execution_count": 62,
     "metadata": {},
     "output_type": "execute_result"
    }
   ],
   "source": [
    "b"
   ]
  },
  {
   "cell_type": "code",
   "execution_count": 63,
   "id": "6215fc37",
   "metadata": {},
   "outputs": [
    {
     "data": {
      "text/plain": [
       "20"
      ]
     },
     "execution_count": 63,
     "metadata": {},
     "output_type": "execute_result"
    }
   ],
   "source": [
    "c"
   ]
  },
  {
   "cell_type": "code",
   "execution_count": 64,
   "id": "e220b259",
   "metadata": {},
   "outputs": [
    {
     "data": {
      "text/plain": [
       "'25'"
      ]
     },
     "execution_count": 64,
     "metadata": {},
     "output_type": "execute_result"
    }
   ],
   "source": [
    "d"
   ]
  },
  {
   "cell_type": "code",
   "execution_count": 44,
   "id": "7e6b77af",
   "metadata": {},
   "outputs": [],
   "source": [
    "a,b,c,d=10,'POTE',20,25"
   ]
  },
  {
   "cell_type": "code",
   "execution_count": 45,
   "id": "73887c66",
   "metadata": {},
   "outputs": [
    {
     "data": {
      "text/plain": [
       "10"
      ]
     },
     "execution_count": 45,
     "metadata": {},
     "output_type": "execute_result"
    }
   ],
   "source": [
    "a"
   ]
  },
  {
   "cell_type": "code",
   "execution_count": 46,
   "id": "eb32ab06",
   "metadata": {},
   "outputs": [
    {
     "data": {
      "text/plain": [
       "'POTE'"
      ]
     },
     "execution_count": 46,
     "metadata": {},
     "output_type": "execute_result"
    }
   ],
   "source": [
    "b"
   ]
  },
  {
   "cell_type": "code",
   "execution_count": 47,
   "id": "321fc50d",
   "metadata": {},
   "outputs": [
    {
     "data": {
      "text/plain": [
       "20"
      ]
     },
     "execution_count": 47,
     "metadata": {},
     "output_type": "execute_result"
    }
   ],
   "source": [
    "c"
   ]
  },
  {
   "cell_type": "code",
   "execution_count": 48,
   "id": "af70ac3a",
   "metadata": {},
   "outputs": [
    {
     "data": {
      "text/plain": [
       "25"
      ]
     },
     "execution_count": 48,
     "metadata": {},
     "output_type": "execute_result"
    }
   ],
   "source": [
    "d"
   ]
  },
  {
   "cell_type": "code",
   "execution_count": 49,
   "id": "7f338187",
   "metadata": {},
   "outputs": [],
   "source": [
    "A=B=C=D=E=25"
   ]
  },
  {
   "cell_type": "code",
   "execution_count": 50,
   "id": "b7219f4c",
   "metadata": {},
   "outputs": [
    {
     "data": {
      "text/plain": [
       "25"
      ]
     },
     "execution_count": 50,
     "metadata": {},
     "output_type": "execute_result"
    }
   ],
   "source": [
    "C"
   ]
  },
  {
   "cell_type": "code",
   "execution_count": 51,
   "id": "c4a70626",
   "metadata": {},
   "outputs": [],
   "source": [
    "X=5;Y=10;Z=15\n"
   ]
  },
  {
   "cell_type": "code",
   "execution_count": 52,
   "id": "b8b27558",
   "metadata": {},
   "outputs": [
    {
     "data": {
      "text/plain": [
       "30"
      ]
     },
     "execution_count": 52,
     "metadata": {},
     "output_type": "execute_result"
    }
   ],
   "source": [
    "X+Y+Z"
   ]
  },
  {
   "cell_type": "code",
   "execution_count": 65,
   "id": "04e03946",
   "metadata": {},
   "outputs": [
    {
     "data": {
      "text/plain": [
       "5"
      ]
     },
     "execution_count": 65,
     "metadata": {},
     "output_type": "execute_result"
    }
   ],
   "source": [
    "Z-Y"
   ]
  },
  {
   "cell_type": "code",
   "execution_count": 66,
   "id": "caee7455",
   "metadata": {},
   "outputs": [
    {
     "data": {
      "text/plain": [
       "50"
      ]
     },
     "execution_count": 66,
     "metadata": {},
     "output_type": "execute_result"
    }
   ],
   "source": [
    "X*Y"
   ]
  },
  {
   "cell_type": "code",
   "execution_count": 55,
   "id": "89df9120",
   "metadata": {},
   "outputs": [
    {
     "data": {
      "text/plain": [
       "2.0"
      ]
     },
     "execution_count": 55,
     "metadata": {},
     "output_type": "execute_result"
    }
   ],
   "source": [
    "Y/X"
   ]
  },
  {
   "cell_type": "code",
   "execution_count": 56,
   "id": "604eb8f0",
   "metadata": {},
   "outputs": [
    {
     "data": {
      "text/plain": [
       "1.5"
      ]
     },
     "execution_count": 56,
     "metadata": {},
     "output_type": "execute_result"
    }
   ],
   "source": [
    "Z/Y"
   ]
  },
  {
   "cell_type": "code",
   "execution_count": 57,
   "id": "9f68abbf",
   "metadata": {},
   "outputs": [
    {
     "data": {
      "text/plain": [
       "9765625"
      ]
     },
     "execution_count": 57,
     "metadata": {},
     "output_type": "execute_result"
    }
   ],
   "source": [
    "X**Y"
   ]
  },
  {
   "cell_type": "code",
   "execution_count": 58,
   "id": "a678ff61",
   "metadata": {},
   "outputs": [
    {
     "data": {
      "text/plain": [
       "'ASJD\\nAKDF\\nJKDF\\nDFIR\\nDSAJ\\nASNJ'"
      ]
     },
     "execution_count": 58,
     "metadata": {},
     "output_type": "execute_result"
    }
   ],
   "source": [
    "'''ASJD\n",
    "AKDF\n",
    "JKDF\n",
    "DFIR\n",
    "DSAJ\n",
    "ASNJ'''"
   ]
  },
  {
   "cell_type": "code",
   "execution_count": 59,
   "id": "fd6366a5",
   "metadata": {},
   "outputs": [],
   "source": [
    "#MY NAME IS AKSHADA I AM STUDING IN SY BSC BIOTECH _"
   ]
  },
  {
   "cell_type": "code",
   "execution_count": null,
   "id": "d6a455bf",
   "metadata": {},
   "outputs": [],
   "source": []
  },
  {
   "cell_type": "code",
   "execution_count": null,
   "id": "80c875f3",
   "metadata": {},
   "outputs": [],
   "source": []
  }
 ],
 "metadata": {
  "kernelspec": {
   "display_name": "Python 3 (ipykernel)",
   "language": "python",
   "name": "python3"
  },
  "language_info": {
   "codemirror_mode": {
    "name": "ipython",
    "version": 3
   },
   "file_extension": ".py",
   "mimetype": "text/x-python",
   "name": "python",
   "nbconvert_exporter": "python",
   "pygments_lexer": "ipython3",
   "version": "3.9.12"
  }
 },
 "nbformat": 4,
 "nbformat_minor": 5
}
